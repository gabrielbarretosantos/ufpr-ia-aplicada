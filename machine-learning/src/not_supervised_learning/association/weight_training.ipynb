{
 "cells": [
  {
   "cell_type": "code",
   "execution_count": 6,
   "metadata": {},
   "outputs": [
    {
     "name": "stderr",
     "output_type": "stream",
     "text": [
      "Skipping line 9: expected 4 fields, saw 5\n",
      "Skipping line 10: expected 4 fields, saw 5\n",
      "Skipping line 11: expected 4 fields, saw 5\n",
      "Skipping line 12: expected 4 fields, saw 5\n",
      "Skipping line 13: expected 4 fields, saw 5\n",
      "Skipping line 14: expected 4 fields, saw 5\n",
      "Skipping line 20: expected 4 fields, saw 5\n",
      "Skipping line 21: expected 4 fields, saw 5\n",
      "Skipping line 22: expected 4 fields, saw 5\n",
      "Skipping line 23: expected 4 fields, saw 5\n",
      "Skipping line 24: expected 4 fields, saw 5\n",
      "Skipping line 25: expected 4 fields, saw 5\n",
      "Skipping line 26: expected 4 fields, saw 5\n",
      "\n"
     ]
    }
   ],
   "source": [
    "import pandas as pd\n",
    "from mlxtend.frequent_patterns import apriori, association_rules\n",
    "import warnings\n",
    "import numpy as np\n",
    "\n",
    "warnings.filterwarnings(\"ignore\")\n",
    "pd.set_option('display.float_format', lambda x: '%.2f')\n",
    "SEED_VALUE = 202407\n",
    "training = pd.read_csv(\"data/2 - Musculacao - Dados.csv\", sep=\";\",error_bad_lines=False)\n",
    "training = training.astype(bool)\n",
    "\n",
    "np.random.seed(SEED_VALUE)\n",
    "\n"
   ]
  },
  {
   "cell_type": "code",
   "execution_count": 8,
   "metadata": {},
   "outputs": [
    {
     "name": "stdout",
     "output_type": "stream",
     "text": [
      "       antecedent support  consequent support  support  confidence  lift  \\\n",
      "count                %.2f                %.2f     %.2f        %.2f  %.2f   \n",
      "mean                 %.2f                %.2f     %.2f        %.2f  %.2f   \n",
      "std                  %.2f                %.2f     %.2f        %.2f  %.2f   \n",
      "min                  %.2f                %.2f     %.2f        %.2f  %.2f   \n",
      "25%                  %.2f                %.2f     %.2f        %.2f  %.2f   \n",
      "50%                  %.2f                %.2f     %.2f        %.2f  %.2f   \n",
      "75%                  %.2f                %.2f     %.2f        %.2f  %.2f   \n",
      "max                  %.2f                %.2f     %.2f        %.2f  %.2f   \n",
      "\n",
      "       leverage  conviction  \n",
      "count      %.2f        %.2f  \n",
      "mean       %.2f        %.2f  \n",
      "std        %.2f         NaN  \n",
      "min        %.2f        %.2f  \n",
      "25%        %.2f         NaN  \n",
      "50%        %.2f         NaN  \n",
      "75%        %.2f         NaN  \n",
      "max        %.2f        %.2f  \n",
      "                   antecedents            consequents  antecedent support  \\\n",
      "0                     (Gemeos)             (LegPress)                %.2f   \n",
      "37  (Afundo, Gemeos, LegPress)            (Crucifixo)                %.2f   \n",
      "27                    (Afundo)  (Crucifixo, LegPress)                %.2f   \n",
      "28                 (Crucifixo)     (Afundo, LegPress)                %.2f   \n",
      "29                  (LegPress)    (Afundo, Crucifixo)                %.2f   \n",
      "\n",
      "    consequent support  support  confidence  lift  leverage  conviction  \n",
      "0                 %.2f     %.2f        %.2f  %.2f      %.2f        %.2f  \n",
      "37                %.2f     %.2f        %.2f  %.2f      %.2f        %.2f  \n",
      "27                %.2f     %.2f        %.2f  %.2f      %.2f        %.2f  \n",
      "28                %.2f     %.2f        %.2f  %.2f      %.2f        %.2f  \n",
      "29                %.2f     %.2f        %.2f  %.2f      %.2f        %.2f  \n"
     ]
    }
   ],
   "source": [
    "\n",
    "frequent_itemsets = apriori(training, min_support=0.01, use_colnames=True)\n",
    "rules = association_rules(frequent_itemsets, metric=\"confidence\", min_threshold=0.8)\n",
    "\n",
    "print(rules.describe())\n",
    "\n",
    "sorted_rules = rules.sort_values(by=\"confidence\", ascending=False)\n",
    "\n",
    "sorted_rules.to_csv(\"data/result.csv\", index=False)\n",
    "\n",
    "print(sorted_rules.head())"
   ]
  }
 ],
 "metadata": {
  "kernelspec": {
   "display_name": "Python 3",
   "language": "python",
   "name": "python3"
  },
  "language_info": {
   "codemirror_mode": {
    "name": "ipython",
    "version": 3
   },
   "file_extension": ".py",
   "mimetype": "text/x-python",
   "name": "python",
   "nbconvert_exporter": "python",
   "pygments_lexer": "ipython3",
   "version": "3.10.14"
  }
 },
 "nbformat": 4,
 "nbformat_minor": 2
}
