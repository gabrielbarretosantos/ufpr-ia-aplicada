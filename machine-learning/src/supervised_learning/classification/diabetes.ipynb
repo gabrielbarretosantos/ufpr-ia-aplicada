{
 "cells": [
  {
   "cell_type": "markdown",
   "metadata": {},
   "source": [
    "### Configuração inicial:\n"
   ]
  },
  {
   "cell_type": "code",
   "execution_count": 4,
   "metadata": {},
   "outputs": [],
   "source": [
    "import pandas as pd\n",
    "import numpy as np\n",
    "from sklearn.model_selection import train_test_split, GridSearchCV\n",
    "from sklearn.neighbors import KNeighborsClassifier\n",
    "from sklearn.neural_network import MLPClassifier\n",
    "from sklearn.svm import SVC\n",
    "from sklearn.ensemble import RandomForestClassifier\n",
    "from sklearn.metrics import confusion_matrix, accuracy_score\n",
    "import matplotlib.pyplot as plt"
   ]
  },
  {
   "cell_type": "code",
   "execution_count": 19,
   "metadata": {},
   "outputs": [],
   "source": [
    "SEED_VALUE = 202407\n",
    "\n",
    "diabetes = pd.read_csv(\"data/10 - Diabetes - Dados.csv\")\n",
    "diabetes\n",
    "\n",
    "diabetes.drop(columns=['num'], inplace=True)\n",
    "\n",
    "X = diabetes.drop(columns=['diabetes'])\n",
    "y = diabetes['diabetes']\n",
    "X_train, X_test, y_train, y_test = train_test_split(X, y, test_size=0.20, random_state=SEED_VALUE)\n",
    "\n",
    "def space():\n",
    "    print(\"\\n\\n\")"
   ]
  },
  {
   "cell_type": "markdown",
   "metadata": {},
   "source": [
    "### KNN:\n"
   ]
  },
  {
   "cell_type": "code",
   "execution_count": 12,
   "metadata": {},
   "outputs": [
    {
     "name": "stdout",
     "output_type": "stream",
     "text": [
      "KNN confusion matrix:\n",
      "[[77 24]\n",
      " [25 28]]\n",
      "KNN Accuracy Score: 0.6818181818181818\n"
     ]
    }
   ],
   "source": [
    "knn_model = KNeighborsClassifier()\n",
    "knn_model.fit(X_train, y_train)\n",
    "\n",
    "knn_predictions = knn_model.predict(X_test)\n",
    "print(\"KNN confusion matrix:\")\n",
    "print(confusion_matrix(y_test, knn_predictions))\n",
    "print(\"KNN Accuracy Score:\", accuracy_score(y_test, knn_predictions))"
   ]
  },
  {
   "cell_type": "markdown",
   "metadata": {},
   "source": [
    "### RNA:\n"
   ]
  },
  {
   "cell_type": "code",
   "execution_count": 13,
   "metadata": {},
   "outputs": [
    {
     "name": "stdout",
     "output_type": "stream",
     "text": [
      "MLP Hold-out Confusion Matrix:\n",
      "[[81 20]\n",
      " [29 24]]\n",
      "MLP Hold-out Accuracy Score: 0.6818181818181818\n",
      "\n",
      "\n",
      "\n",
      "Best Parameters: {'alpha': 0.0001, 'hidden_layer_sizes': (31,)}\n",
      "MLP Cross-Validation Confusion Matrix:\n",
      "[[75 26]\n",
      " [23 30]]\n",
      "MLP Cross-Validation Accuracy Score: 0.6818181818181818\n"
     ]
    }
   ],
   "source": [
    "## HOLD OUT\n",
    "mlp_model = MLPClassifier(max_iter=2000, random_state=SEED_VALUE)\n",
    "mlp_model.fit(X_train, y_train)\n",
    "mlp_predictions = mlp_model.predict(X_test)\n",
    "print(\"MLP Hold-out Confusion Matrix:\")\n",
    "print(confusion_matrix(y_test, mlp_predictions))\n",
    "print(\"MLP Hold-out Accuracy Score:\", accuracy_score(y_test, mlp_predictions))\n",
    "\n",
    "space()\n",
    "\n",
    "## CV\n",
    "param_grid = {\n",
    "    'hidden_layer_sizes': [(i,) for i in range(1, 46, 10)],\n",
    "    'alpha':np.arange(0.0001, 0.001, 0.01)\n",
    "}\n",
    "grid_search = GridSearchCV(MLPClassifier(max_iter=2000, random_state=SEED_VALUE), param_grid, cv=10, n_jobs=1)\n",
    "grid_search.fit(X_train, y_train)\n",
    "print(\"Best Parameters:\", grid_search.best_params_)\n",
    "mlp_cv_model = grid_search.best_estimator_\n",
    "mlp_cv_predictions = mlp_cv_model.predict(X_test)\n",
    "print(\"MLP Cross-Validation Confusion Matrix:\")\n",
    "print(confusion_matrix(y_test, mlp_cv_predictions))\n",
    "print(\"MLP Cross-Validation Accuracy Score:\", accuracy_score(y_test, mlp_cv_predictions))\n",
    "\n"
   ]
  },
  {
   "cell_type": "markdown",
   "metadata": {},
   "source": [
    "### SVM:"
   ]
  },
  {
   "cell_type": "code",
   "execution_count": 14,
   "metadata": {},
   "outputs": [
    {
     "name": "stdout",
     "output_type": "stream",
     "text": [
      "SVM Hold-out Confusion Matrix:\n",
      "[[86 15]\n",
      " [27 26]]\n",
      "SVM Hold-out Accuracy Score: 0.7272727272727273\n",
      "\n",
      "\n",
      "\n",
      "Best Parameters: {'C': 1, 'gamma': 0.01}\n",
      "SVM Cross-Validation Confusion Matrix:\n",
      "[[98  3]\n",
      " [47  6]]\n",
      "SVM Cross-Validation Accuracy Score: 0.6753246753246753\n"
     ]
    }
   ],
   "source": [
    "## HOLD OUT\n",
    "svm_model = SVC(kernel='rbf', random_state=SEED_VALUE)\n",
    "svm_model.fit(X_train, y_train)\n",
    "svm_predictions = svm_model.predict(X_test)\n",
    "print(\"SVM Hold-out Confusion Matrix:\")\n",
    "print(confusion_matrix(y_test, svm_predictions))\n",
    "print(\"SVM Hold-out Accuracy Score:\", accuracy_score(y_test, svm_predictions))\n",
    "\n",
    "space()\n",
    "\n",
    "## CV\n",
    "param_grid_svm = {\n",
    "    'C': np.arange(1, 101, 10),\n",
    "    'gamma': np.arange(0.01, 0.21, 0.05)\n",
    "}\n",
    "grid_search_svm = GridSearchCV(SVC(kernel='rbf', random_state=SEED_VALUE), param_grid_svm, cv=10, n_jobs=1)\n",
    "grid_search_svm.fit(X_train, y_train)\n",
    "print(\"Best Parameters:\", grid_search_svm.best_params_)\n",
    "cv_model_svm = grid_search_svm.best_estimator_\n",
    "cv_svm_predictions = cv_model_svm.predict(X_test)\n",
    "print(\"SVM Cross-Validation Confusion Matrix:\")\n",
    "print(confusion_matrix(y_test, cv_svm_predictions))\n",
    "print(\"SVM Cross-Validation Accuracy Score:\", accuracy_score(y_test, cv_svm_predictions))\n",
    "\n"
   ]
  },
  {
   "cell_type": "markdown",
   "metadata": {},
   "source": [
    "### RF:"
   ]
  },
  {
   "cell_type": "code",
   "execution_count": 15,
   "metadata": {},
   "outputs": [
    {
     "name": "stdout",
     "output_type": "stream",
     "text": [
      "RF Hold-out Confusion Matrix:\n",
      "[[83 18]\n",
      " [19 34]]\n",
      "RF Hold-out Accuracy Score: 0.7597402597402597\n",
      "\n",
      "\n",
      "\n",
      "Best RF Parameters: {'max_features': 2, 'n_estimators': 300}\n",
      "RF Cross-Validation Confusion Matrix:\n",
      "[[88 13]\n",
      " [19 34]]\n",
      "RF Cross-Validation Accuracy Score: 0.7922077922077922\n"
     ]
    }
   ],
   "source": [
    "# HOLD OUT\n",
    "rf_model = RandomForestClassifier(random_state=SEED_VALUE)\n",
    "rf_model.fit(X_train, y_train)\n",
    "rf_predictions = rf_model.predict(X_test)\n",
    "print(\"RF Hold-out Confusion Matrix:\")\n",
    "print(confusion_matrix(y_test, rf_predictions))\n",
    "print(\"RF Hold-out Accuracy Score:\", accuracy_score(y_test, rf_predictions))\n",
    "\n",
    "space()\n",
    "\n",
    "# CV\n",
    "param_grid_rf = {\n",
    "    'n_estimators': np.arange(100, 301, 100),\n",
    "    'max_features': np.arange(2, 10, 3)\n",
    "}\n",
    "grid_search_rf = GridSearchCV(RandomForestClassifier(random_state=SEED_VALUE), param_grid_rf, cv=10, n_jobs=-1)\n",
    "grid_search_rf.fit(X_train, y_train)\n",
    "print(\"Best RF Parameters:\", grid_search_rf.best_params_)\n",
    "rf_cv_model = grid_search_rf.best_estimator_\n",
    "rf_cv_predictions = rf_cv_model.predict(X_test)\n",
    "print(\"RF Cross-Validation Confusion Matrix:\")\n",
    "print(confusion_matrix(y_test, rf_cv_predictions))\n",
    "print(\"RF Cross-Validation Accuracy Score:\", accuracy_score(y_test, rf_cv_predictions))\n",
    "\n"
   ]
  },
  {
   "cell_type": "markdown",
   "metadata": {},
   "source": [
    "### TESTE DE NOVOS CASOS COM O MELHOR MODELO: RF - CROSS VALIDATION"
   ]
  },
  {
   "cell_type": "code",
   "execution_count": 20,
   "metadata": {},
   "outputs": [
    {
     "name": "stdout",
     "output_type": "stream",
     "text": [
      "   preg0nt  glucose  pressure  triceps  insulin  mass  pedigree  age diabetes  \\\n",
      "0        1      139        62       41      480  40.7       536   21      neg   \n",
      "1        1       97        68       21        0  27.2      1095   22      neg   \n",
      "2        0      109        88       30        0  32.5       855   38      pos   \n",
      "3        9      171       110       24      240  45.4       721   54      pos   \n",
      "\n",
      "  diabates  \n",
      "0      neg  \n",
      "1      neg  \n",
      "2      pos  \n",
      "3      pos  \n"
     ]
    }
   ],
   "source": [
    "diabetes_new_case = pd.read_csv(\"data/10 - Diabetes - Novos_Dados.csv\")\n",
    "diabetes_new_case_predictions = rf_cv_model.predict(diabetes_new_case.drop(columns='diabetes'))\n",
    "diabetes_new_case['diabates'] = diabetes_new_case_predictions\n",
    "print(diabetes_new_case)"
   ]
  }
 ],
 "metadata": {
  "kernelspec": {
   "display_name": "Python 3",
   "language": "python",
   "name": "python3"
  },
  "language_info": {
   "codemirror_mode": {
    "name": "ipython",
    "version": 3
   },
   "file_extension": ".py",
   "mimetype": "text/x-python",
   "name": "python",
   "nbconvert_exporter": "python",
   "pygments_lexer": "ipython3",
   "version": "3.10.14"
  }
 },
 "nbformat": 4,
 "nbformat_minor": 2
}
