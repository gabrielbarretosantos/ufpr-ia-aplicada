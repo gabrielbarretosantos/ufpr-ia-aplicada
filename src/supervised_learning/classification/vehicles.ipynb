{
 "cells": [
  {
   "cell_type": "markdown",
   "metadata": {},
   "source": [
    "### Configuração inicial:\n"
   ]
  },
  {
   "cell_type": "code",
   "execution_count": 3,
   "metadata": {},
   "outputs": [],
   "source": [
    "import pandas as pd\n",
    "import numpy as np\n",
    "from sklearn.model_selection import train_test_split, GridSearchCV\n",
    "from sklearn.neighbors import KNeighborsClassifier\n",
    "from sklearn.neural_network import MLPClassifier\n",
    "from sklearn.svm import SVC\n",
    "from sklearn.ensemble import RandomForestClassifier\n",
    "from sklearn.metrics import confusion_matrix, accuracy_score\n",
    "import matplotlib.pyplot as plt"
   ]
  },
  {
   "cell_type": "code",
   "execution_count": 46,
   "metadata": {},
   "outputs": [],
   "source": [
    "SEED_VALUE = 202407\n",
    "\n",
    "vehicles = pd.read_csv(\"data/6 - Veiculos - Dados.csv\")\n",
    "vehicles\n",
    "\n",
    "vehicles = vehicles.drop(columns=['a'])\n",
    "\n",
    "X = vehicles.drop(columns=['tipo'])\n",
    "y = vehicles['tipo']\n",
    "X_train, X_test, y_train, y_test = train_test_split(X, y, test_size=0.20, random_state=SEED_VALUE)\n",
    "\n",
    "def space():\n",
    "    print(\"\\n\\n\")"
   ]
  },
  {
   "cell_type": "markdown",
   "metadata": {},
   "source": [
    "### KNN:\n"
   ]
  },
  {
   "cell_type": "code",
   "execution_count": 32,
   "metadata": {},
   "outputs": [
    {
     "name": "stdout",
     "output_type": "stream",
     "text": [
      "KNN confusion matrix:\n",
      "[[40  1  3  3]\n",
      " [ 4 26 17  2]\n",
      " [ 2 16 22  2]\n",
      " [ 1  2  2 27]]\n",
      "KNN Accuracy Score: 0.6764705882352942\n"
     ]
    }
   ],
   "source": [
    "knn_model = KNeighborsClassifier()\n",
    "knn_model.fit(X_train, y_train)\n",
    "\n",
    "knn_predictions = knn_model.predict(X_test)\n",
    "print(\"KNN confusion matrix:\")\n",
    "print(confusion_matrix(y_test, knn_predictions))\n",
    "print(\"KNN Accuracy Score:\", accuracy_score(y_test, knn_predictions))"
   ]
  },
  {
   "cell_type": "markdown",
   "metadata": {},
   "source": [
    "### RNA:\n"
   ]
  },
  {
   "cell_type": "code",
   "execution_count": 33,
   "metadata": {},
   "outputs": [
    {
     "name": "stdout",
     "output_type": "stream",
     "text": [
      "MLP Hold-out Confusion Matrix:\n",
      "[[43  2  0  2]\n",
      " [ 2 46  0  1]\n",
      " [ 4 34  3  1]\n",
      " [ 2  4  0 26]]\n",
      "MLP Hold-out Accuracy Score: 0.6941176470588235\n",
      "\n",
      "\n",
      "\n",
      "Best Parameters: {'alpha': 0.0001, 'hidden_layer_sizes': (11,)}\n",
      "MLP Cross-Validation Confusion Matrix:\n",
      "[[40  5  0  2]\n",
      " [ 4 34  5  6]\n",
      " [ 2 24 11  5]\n",
      " [ 0  6  2 24]]\n",
      "MLP Cross-Validation Accuracy Score: 0.6411764705882353\n"
     ]
    }
   ],
   "source": [
    "## HOLD OUT\n",
    "mlp_model = MLPClassifier(max_iter=2000, random_state=SEED_VALUE)\n",
    "mlp_model.fit(X_train, y_train)\n",
    "mlp_predictions = mlp_model.predict(X_test)\n",
    "print(\"MLP Hold-out Confusion Matrix:\")\n",
    "print(confusion_matrix(y_test, mlp_predictions))\n",
    "print(\"MLP Hold-out Accuracy Score:\", accuracy_score(y_test, mlp_predictions))\n",
    "\n",
    "space()\n",
    "\n",
    "## CV\n",
    "param_grid = {\n",
    "    'hidden_layer_sizes': [(i,) for i in range(1, 46, 10)],\n",
    "    'alpha':np.arange(0.0001, 0.001, 0.01)\n",
    "}\n",
    "grid_search = GridSearchCV(MLPClassifier(max_iter=2000, random_state=SEED_VALUE), param_grid, cv=10, n_jobs=1)\n",
    "grid_search.fit(X_train, y_train)\n",
    "print(\"Best Parameters:\", grid_search.best_params_)\n",
    "mlp_cv_model = grid_search.best_estimator_\n",
    "mlp_cv_predictions = mlp_cv_model.predict(X_test)\n",
    "print(\"MLP Cross-Validation Confusion Matrix:\")\n",
    "print(confusion_matrix(y_test, mlp_cv_predictions))\n",
    "print(\"MLP Cross-Validation Accuracy Score:\", accuracy_score(y_test, mlp_cv_predictions))\n",
    "\n"
   ]
  },
  {
   "cell_type": "markdown",
   "metadata": {},
   "source": [
    "### SVM:"
   ]
  },
  {
   "cell_type": "code",
   "execution_count": 37,
   "metadata": {},
   "outputs": [
    {
     "name": "stdout",
     "output_type": "stream",
     "text": [
      "SVM Hold-out Confusion Matrix:\n",
      "[[19  0  5 23]\n",
      " [ 6 17 12 14]\n",
      " [ 9 15 12  6]\n",
      " [ 3  0  0 29]]\n",
      "SVM Hold-out Accuracy Score: 0.45294117647058824\n",
      "\n",
      "\n",
      "\n",
      "Best Parameters: {'C': 11, 'gamma': 0.01}\n",
      "SVM Cross-Validation Confusion Matrix:\n",
      "[[25  0 21  1]\n",
      " [ 1 11 36  1]\n",
      " [ 1  7 34  0]\n",
      " [ 0  1 13 18]]\n",
      "SVM Cross-Validation Accuracy Score: 0.5176470588235295\n"
     ]
    }
   ],
   "source": [
    "## HOLD OUT\n",
    "svm_model = SVC(kernel='rbf', random_state=SEED_VALUE)\n",
    "svm_model.fit(X_train, y_train)\n",
    "svm_predictions = svm_model.predict(X_test)\n",
    "print(\"SVM Hold-out Confusion Matrix:\")\n",
    "print(confusion_matrix(y_test, svm_predictions))\n",
    "print(\"SVM Hold-out Accuracy Score:\", accuracy_score(y_test, svm_predictions))\n",
    "\n",
    "space()\n",
    "\n",
    "## CV\n",
    "param_grid_svm = {\n",
    "    'C': np.arange(1, 101, 10),\n",
    "    'gamma': np.arange(0.01, 0.21, 0.05)\n",
    "}\n",
    "grid_search_svm = GridSearchCV(SVC(kernel='rbf', random_state=SEED_VALUE), param_grid_svm, cv=10, n_jobs=1)\n",
    "grid_search_svm.fit(X_train, y_train)\n",
    "print(\"Best Parameters:\", grid_search_svm.best_params_)\n",
    "cv_model_svm = grid_search_svm.best_estimator_\n",
    "cv_svm_predictions = cv_model_svm.predict(X_test)\n",
    "print(\"SVM Cross-Validation Confusion Matrix:\")\n",
    "print(confusion_matrix(y_test, cv_svm_predictions))\n",
    "print(\"SVM Cross-Validation Accuracy Score:\", accuracy_score(y_test, cv_svm_predictions))\n",
    "\n"
   ]
  },
  {
   "cell_type": "markdown",
   "metadata": {},
   "source": [
    "### RF:"
   ]
  },
  {
   "cell_type": "code",
   "execution_count": 43,
   "metadata": {},
   "outputs": [
    {
     "name": "stdout",
     "output_type": "stream",
     "text": [
      "RF Hold-out Confusion Matrix:\n",
      "[[47  0  0  0]\n",
      " [ 0 26 22  1]\n",
      " [ 3 11 27  1]\n",
      " [ 0  0  1 31]]\n",
      "RF Hold-out Accuracy Score: 0.7705882352941177\n",
      "\n",
      "\n",
      "\n",
      "Best RF Parameters: {'max_features': 8, 'n_estimators': 200}\n",
      "RF Cross-Validation Confusion Matrix:\n",
      "[[47  0  0  0]\n",
      " [ 1 28 19  1]\n",
      " [ 3 14 24  1]\n",
      " [ 0  0  1 31]]\n",
      "RF Cross-Validation Accuracy Score: 0.7647058823529411\n"
     ]
    }
   ],
   "source": [
    "# HOLD OUT\n",
    "rf_model = RandomForestClassifier(random_state=SEED_VALUE)\n",
    "rf_model.fit(X_train, y_train)\n",
    "rf_predictions = rf_model.predict(X_test)\n",
    "print(\"RF Hold-out Confusion Matrix:\")\n",
    "print(confusion_matrix(y_test, rf_predictions))\n",
    "print(\"RF Hold-out Accuracy Score:\", accuracy_score(y_test, rf_predictions))\n",
    "\n",
    "space()\n",
    "\n",
    "# CV\n",
    "param_grid_rf = {\n",
    "    'n_estimators': np.arange(100, 301, 100),\n",
    "    'max_features': np.arange(2, 10, 3)\n",
    "}\n",
    "grid_search_rf = GridSearchCV(RandomForestClassifier(random_state=SEED_VALUE), param_grid_rf, cv=10, n_jobs=-1)\n",
    "grid_search_rf.fit(X_train, y_train)\n",
    "print(\"Best RF Parameters:\", grid_search_rf.best_params_)\n",
    "rf_cv_model = grid_search_rf.best_estimator_\n",
    "rf_cv_predictions = rf_cv_model.predict(X_test)\n",
    "print(\"RF Cross-Validation Confusion Matrix:\")\n",
    "print(confusion_matrix(y_test, rf_cv_predictions))\n",
    "print(\"RF Cross-Validation Accuracy Score:\", accuracy_score(y_test, rf_cv_predictions))\n",
    "\n"
   ]
  },
  {
   "cell_type": "markdown",
   "metadata": {},
   "source": [
    "### TESTE DE NOVOS CASOS COM O MELHOR MODELO: RF - HOLD OUT"
   ]
  },
  {
   "cell_type": "code",
   "execution_count": 47,
   "metadata": {},
   "outputs": [
    {
     "name": "stdout",
     "output_type": "stream",
     "text": [
      "   Comp  Circ  DCirc  RadRa  PrAxisRa  MaxLRa  ScatRa  Elong  PrAxisRect  \\\n",
      "0    84    37     53    121        59       5     123     55          17   \n",
      "1   105    55     96    181        56       9     219     30          25   \n",
      "2    94    44     70    186        72       8     153     42          19   \n",
      "3   105    51     93    160        51       7     217     30          24   \n",
      "\n",
      "   MaxLRect  ScVarMaxis  ScVarmaxis  RaGyr  SkewMaxis  Skewmaxis  Kurtmaxis  \\\n",
      "0       125         141         221    133         82          7          1   \n",
      "1       175         231         713    216         74          4          5   \n",
      "2       144         171         361    178         67          7          2   \n",
      "3       165         240         703    208         81          9         25   \n",
      "\n",
      "   KurtMaxis  HollRa  tipo  \n",
      "0        179     183   van  \n",
      "1        187     194  opel  \n",
      "2        199     206   bus  \n",
      "3        188     188   bus  \n"
     ]
    }
   ],
   "source": [
    "vehicles_new_case = pd.read_csv(\"data/6 - Veiculos - Novos_Dados.csv\")\n",
    "vehicles_new_case_predictions = rf_model.predict(vehicles_new_case.drop(columns='tipo'))\n",
    "vehicles_new_case['tipo'] = vehicles_new_case_predictions\n",
    "print(vehicles_new_case)"
   ]
  }
 ],
 "metadata": {
  "kernelspec": {
   "display_name": "Python 3",
   "language": "python",
   "name": "python3"
  },
  "language_info": {
   "codemirror_mode": {
    "name": "ipython",
    "version": 3
   },
   "file_extension": ".py",
   "mimetype": "text/x-python",
   "name": "python",
   "nbconvert_exporter": "python",
   "pygments_lexer": "ipython3",
   "version": "3.10.14"
  }
 },
 "nbformat": 4,
 "nbformat_minor": 2
}
